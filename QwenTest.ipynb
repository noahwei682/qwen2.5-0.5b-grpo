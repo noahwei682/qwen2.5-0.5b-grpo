{
 "cells": [
  {
   "cell_type": "markdown",
   "id": "8cc4aa39-77b0-442f-be7c-8acc92ae6365",
   "metadata": {},
   "source": [
    "# 加载Checkpoint"
   ]
  },
  {
   "cell_type": "code",
   "execution_count": 1,
   "id": "2302b7d2-fc9b-42f6-b5cb-c58b6bc35849",
   "metadata": {},
   "outputs": [
    {
     "name": "stdout",
     "output_type": "stream",
     "text": [
      "outputs/Qwen2.5-0.5B-Instruct-GRPO/checkpoint-800\n"
     ]
    }
   ],
   "source": [
    "import os \n",
    "\n",
    "checkpoints=os.listdir('outputs/Qwen2.5-0.5B-Instruct-GRPO')\n",
    "latest_checkpoints=sorted(filter(lambda x: x.startswith('checkpoint'),checkpoints),key=lambda x: int(x.split('-')[-1]))[-1]\n",
    "model_name=f'outputs/Qwen2.5-0.5B-Instruct-GRPO/{latest_checkpoints}'\n",
    "print(model_name)"
   ]
  },
  {
   "cell_type": "code",
   "execution_count": 2,
   "id": "48f1ee25-8874-4f1e-b9e1-c2d99efbb6b9",
   "metadata": {},
   "outputs": [],
   "source": [
    "from transformers import AutoModelForCausalLM, AutoTokenizer\n",
    "import os\n",
    "\n",
    "grpo_model = AutoModelForCausalLM.from_pretrained(\n",
    "    model_name,\n",
    "    torch_dtype=\"auto\",\n",
    "    device_map=\"auto\"\n",
    ")\n",
    "raw_model = AutoModelForCausalLM.from_pretrained(\n",
    "    '/root/.cache/modelscope/hub/Qwen/Qwen2.5-0.5B-Instruct',\n",
    "    torch_dtype=\"auto\",\n",
    "    device_map=\"auto\"\n",
    ")\n",
    "tokenizer = AutoTokenizer.from_pretrained(model_name)"
   ]
  },
  {
   "cell_type": "markdown",
   "id": "f45a9490-390b-4c0f-b121-6265cd9af3d5",
   "metadata": {},
   "source": [
    "# 推理"
   ]
  },
  {
   "cell_type": "code",
   "execution_count": 3,
   "id": "c7149491-bb8a-4b85-a41f-9983e2f32e77",
   "metadata": {},
   "outputs": [
    {
     "name": "stderr",
     "output_type": "stream",
     "text": [
      "2025-02-16 10:39:37,702 - modelscope - WARNING - Use trust_remote_code=True. Will invoke codes from gsm8k. Please make sure that you can trust the external codes.\n",
      "2025-02-16 10:39:37,907 - modelscope - WARNING - Use trust_remote_code=True. Will invoke codes from modelscope/gsm8k. Please make sure that you can trust the external codes.\n",
      "2025-02-16 10:39:37,907 - modelscope - WARNING - Use trust_remote_code=True. Will invoke codes from modelscope/gsm8k. Please make sure that you can trust the external codes.\n",
      "2025-02-16 10:39:37,907 - modelscope - WARNING - Use trust_remote_code=True. Will invoke codes from modelscope/gsm8k. Please make sure that you can trust the external codes.\n"
     ]
    },
    {
     "data": {
      "text/plain": [
       "{'question': 'Natalia sold clips to 48 of her friends in April, and then she sold half as many clips in May. How many clips did Natalia sell altogether in April and May?',\n",
       " 'answer': 'Natalia sold 48/2 = <<48/2=24>>24 clips in May.\\nNatalia sold 48+24 = <<48+24=72>>72 clips altogether in April and May.\\n#### 72'}"
      ]
     },
     "execution_count": 3,
     "metadata": {},
     "output_type": "execute_result"
    }
   ],
   "source": [
    "from modelscope.msdatasets import MsDataset\n",
    "data = MsDataset.load('modelscope/gsm8k', subset_name='main', split='train')\n",
    "data[0]"
   ]
  },
  {
   "cell_type": "markdown",
   "id": "4724e290-fc7e-4f31-bc6c-fb304be5c003",
   "metadata": {},
   "source": [
    "原版模型"
   ]
  },
  {
   "cell_type": "code",
   "execution_count": 7,
   "id": "d3b63e21-2e2f-482d-bef2-f8b3fbcb5650",
   "metadata": {},
   "outputs": [
    {
     "name": "stdout",
     "output_type": "stream",
     "text": [
      "为了计算新的总数量，我们需要从原始的7只鸟中加上新的1只。所以，总共的鸟的数量是：\n",
      "\n",
      "$$ 7 + 1 = 8 $$\n",
      "\n",
      "因此，现在共有8只鸟。\n"
     ]
    }
   ],
   "source": [
    "SYSTEM_PROMPT = \"\"\"\n",
    "Respond in the following format:\n",
    "<reasoning>\n",
    "...\n",
    "</reasoning>\n",
    "<answer>\n",
    "...\n",
    "</answer>\n",
    "\"\"\"\n",
    "\n",
    "XML_COT_FORMAT = \"\"\"\n",
    "<reasoning>\n",
    "{reasoning}\n",
    "</reasoning>\n",
    "<answer>\n",
    "{answer}\n",
    "</answer>\n",
    "\"\"\"\n",
    "\n",
    "query='树上7个鸟，又飞来1个鸟，一共几个鸟'\n",
    "messages=[\n",
    "    {'role':'system','content':SYSTEM_PROMPT},\n",
    "    # few shot, 因为0.5B模型太弱了\n",
    "    {'role': 'user', 'content': '数字10203040里面有几个0?'},\n",
    "    {'role': 'assistant', 'content': XML_COT_FORMAT.format(reasoning='可以将数字拆开看，1、0、2、0、3、0、4、0，我们可以数出有4个0',answer='4')},\n",
    "    {'role':'user','content':query}]\n",
    "text = tokenizer.apply_chat_template(messages,tokenize=False,add_generation_prompt=True)\n",
    "model_inputs = tokenizer([text], return_tensors=\"pt\").to(raw_model.device)\n",
    "\n",
    "generated_ids = raw_model.generate(\n",
    "    **model_inputs,\n",
    "    max_new_tokens=300,\n",
    ")\n",
    "completion_ids=generated_ids[0][len(model_inputs.input_ids[0]):]\n",
    "completion_text=tokenizer.decode(completion_ids, skip_special_tokens=True)\n",
    "print(completion_text)"
   ]
  },
  {
   "cell_type": "markdown",
   "id": "c964535e-a624-46a7-bb8a-727ab733f267",
   "metadata": {},
   "source": [
    "RL版本"
   ]
  },
  {
   "cell_type": "code",
   "execution_count": 23,
   "id": "5a43f293-cec8-4200-bafc-7a7cde3dfc64",
   "metadata": {},
   "outputs": [
    {
     "name": "stdout",
     "output_type": "stream",
     "text": [
      "<reasoning>\n",
      "2 + 3 = 5 people\n",
      "</reasoning>\n",
      "<answer>\n",
      "队伍一共有5人\n",
      "</answer>\n"
     ]
    }
   ],
   "source": [
    "SYSTEM_PROMPT = \"\"\"\n",
    "Respond in the following format:\n",
    "<reasoning>\n",
    "...\n",
    "</reasoning>\n",
    "<answer>\n",
    "...\n",
    "</answer>\n",
    "\"\"\"\n",
    "\n",
    "XML_COT_FORMAT = \"\"\"\n",
    "<reasoning>\n",
    "{reasoning}\n",
    "</reasoning>\n",
    "<answer>\n",
    "{answer}\n",
    "</answer>\n",
    "\"\"\"\n",
    "\n",
    "query='小明站在队伍中间，前面有2个人，后面有3个人，请问队伍一共多少人？'\n",
    "messages=[\n",
    "    {'role':'system','content':SYSTEM_PROMPT},\n",
    "    # few shot, 因为0.5B模型太弱了\n",
    "    {'role': 'user', 'content': '数字10203040里面有几个0?'},\n",
    "    {'role': 'assistant', 'content': XML_COT_FORMAT.format(reasoning='可以将数字拆开看，1、0、2、0、3、0、4、0，我们可以数出有4个0',answer='4')},\n",
    "    {'role':'user','content':query}]\n",
    "text = tokenizer.apply_chat_template(messages,tokenize=False,add_generation_prompt=True)\n",
    "model_inputs = tokenizer([text], return_tensors=\"pt\").to(grpo_model.device)\n",
    "\n",
    "generated_ids = grpo_model.generate(\n",
    "    **model_inputs,\n",
    "    max_new_tokens=300,\n",
    ")\n",
    "completion_ids=generated_ids[0][len(model_inputs.input_ids[0]):]\n",
    "completion_text=tokenizer.decode(completion_ids, skip_special_tokens=True)\n",
    "print(completion_text)"
   ]
  }
 ],
 "metadata": {
  "kernelspec": {
   "display_name": "Python 3 (ipykernel)",
   "language": "python",
   "name": "python3"
  },
  "language_info": {
   "codemirror_mode": {
    "name": "ipython",
    "version": 3
   },
   "file_extension": ".py",
   "mimetype": "text/x-python",
   "name": "python",
   "nbconvert_exporter": "python",
   "pygments_lexer": "ipython3",
   "version": "3.10.16"
  }
 },
 "nbformat": 4,
 "nbformat_minor": 5
}
